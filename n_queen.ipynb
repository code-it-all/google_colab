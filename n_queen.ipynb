{
  "nbformat": 4,
  "nbformat_minor": 0,
  "metadata": {
    "colab": {
      "provenance": [],
      "authorship_tag": "ABX9TyNg+ElhB2C+nqLvnXX3CJgL",
      "include_colab_link": true
    },
    "kernelspec": {
      "name": "python3",
      "display_name": "Python 3"
    },
    "language_info": {
      "name": "python"
    }
  },
  "cells": [
    {
      "cell_type": "markdown",
      "metadata": {
        "id": "view-in-github",
        "colab_type": "text"
      },
      "source": [
        "<a href=\"https://colab.research.google.com/github/code-it-all/google_colab/blob/main/n_queen.ipynb\" target=\"_parent\"><img src=\"https://colab.research.google.com/assets/colab-badge.svg\" alt=\"Open In Colab\"/></a>"
      ]
    },
    {
      "cell_type": "code",
      "source": [
        "#  nqueen problem for 4 X 4 board size\n",
        "numq = 4\n",
        "currentsol = [0 for x in range (numq)]\n",
        "solution = []"
      ],
      "metadata": {
        "id": "GzIgUZbdh8RC"
      },
      "execution_count": null,
      "outputs": []
    },
    {
      "cell_type": "code",
      "source": [
        "currentsol"
      ],
      "metadata": {
        "colab": {
          "base_uri": "https://localhost:8080/"
        },
        "id": "Pbh4A1n0unbZ",
        "outputId": "e572561a-6295-4fa3-e62c-d282bea2a6fa"
      },
      "execution_count": null,
      "outputs": [
        {
          "output_type": "execute_result",
          "data": {
            "text/plain": [
              "[0, 0, 0, 0, 0, 0, 0, 0]"
            ]
          },
          "metadata": {},
          "execution_count": 41
        }
      ]
    },
    {
      "cell_type": "code",
      "source": [
        "# checks if the queen is safe at place or not\n",
        "def isSafe(testRow, testCol):\n",
        "  if testRow == 0:\n",
        "    return True\n",
        "\n",
        "  for i in range(0, testRow):\n",
        "    if testCol == currentsol[i]: #checks if column is safe.\n",
        "      return False\n",
        "    if abs(testRow -i) == abs(testCol - currentsol[i]): #checks if diagonal is safe\n",
        "      return False\n",
        "  return True"
      ],
      "metadata": {
        "id": "O29abdvIulS_"
      },
      "execution_count": null,
      "outputs": []
    },
    {
      "cell_type": "code",
      "source": [
        "# recursive function\n",
        "def placeq(row):\n",
        "  global currentsol, solution, numq\n",
        "  for col in range(0, numq):\n",
        "    if not isSafe(row, col):\n",
        "      continue\n",
        "    else:\n",
        "      currentsol[row] = col\n",
        "      if row == (numq - 1):\n",
        "        solution.append(currentsol.copy())\n",
        "        print(currentsol)\n",
        "      else:\n",
        "        placeq(row + 1)"
      ],
      "metadata": {
        "id": "49qSqY1duWBg"
      },
      "execution_count": null,
      "outputs": []
    },
    {
      "cell_type": "code",
      "source": [
        "placeq(0)\n",
        "print(len(solution))"
      ],
      "metadata": {
        "colab": {
          "base_uri": "https://localhost:8080/"
        },
        "id": "vOVgf5HPuPLr",
        "outputId": "64cb4bd1-6d0b-40e8-f2ed-62d8144f77f8"
      },
      "execution_count": null,
      "outputs": [
        {
          "output_type": "stream",
          "name": "stdout",
          "text": [
            "[1, 3, 0, 2]\n",
            "[2, 0, 3, 1]\n",
            "2\n"
          ]
        }
      ]
    },
    {
      "cell_type": "code",
      "source": [
        "# n_queen problem solution with visual solutions\n",
        "\n",
        "def is_safe(board, row, col):\n",
        "    # Check if there is a queen in the same row to the left\n",
        "    for i in range(col):\n",
        "        if board[row][i] == 1:\n",
        "            return False\n",
        "\n",
        "    # Check if there is a queen in the upper diagonal to the left\n",
        "    for i, j in zip(range(row, -1, -1), range(col, -1, -1)):\n",
        "        if board[i][j] == 1:\n",
        "            return False\n",
        "\n",
        "    # Check if there is a queen in the lower diagonal to the left\n",
        "    for i, j in zip(range(row, len(board), 1), range(col, -1, -1)):\n",
        "        if board[i][j] == 1:\n",
        "            return False\n",
        "\n",
        "    return True\n",
        "\n",
        "def solve_n_queens_util(board, col):\n",
        "    # Base case: all queens are placed\n",
        "    if col == len(board):\n",
        "        print_board(board)\n",
        "        return True\n",
        "\n",
        "    res = False\n",
        "    for i in range(len(board)):\n",
        "        if is_safe(board, i, col):\n",
        "            board[i][col] = 1\n",
        "            res = solve_n_queens_util(board, col + 1) or res\n",
        "            board[i][col] = 0  # Backtrack if placing a queen in this position doesn't lead to a solution\n",
        "\n",
        "    return res\n",
        "\n",
        "def solve_n_queens():\n",
        "    n = 4  # Change this value to solve for a different N-Queens problem\n",
        "    board = [[0 for _ in range(n)] for _ in range(n)]\n",
        "\n",
        "    if not solve_n_queens_util(board, 0):\n",
        "        print(\"No solution exists\")\n",
        "\n",
        "def print_board(board):\n",
        "    for row in board:\n",
        "        print(\" \".join([\"Q\" if cell == 1 else \".\" for cell in row]))\n",
        "        print()\n",
        "\n",
        "solve_n_queens()"
      ],
      "metadata": {
        "colab": {
          "base_uri": "https://localhost:8080/"
        },
        "id": "Y4PPFZ6StKNl",
        "outputId": "f48d2efd-9e7e-4c9f-dca7-0469b3490950"
      },
      "execution_count": null,
      "outputs": [
        {
          "output_type": "stream",
          "name": "stdout",
          "text": [
            ". . Q .\n",
            "\n",
            "Q . . .\n",
            "\n",
            ". . . Q\n",
            "\n",
            ". Q . .\n",
            "\n",
            ". Q . .\n",
            "\n",
            ". . . Q\n",
            "\n",
            "Q . . .\n",
            "\n",
            ". . Q .\n",
            "\n"
          ]
        }
      ]
    }
  ]
}